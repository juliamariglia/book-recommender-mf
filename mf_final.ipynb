{
 "cells": [
  {
   "cell_type": "code",
   "execution_count": 1,
   "id": "1ffe814b",
   "metadata": {},
   "outputs": [],
   "source": [
    "# libraries\n",
    "import pandas as pd\n",
    "import numpy as np\n",
    "from matrix_factorization_tf import MF\n",
    "\n",
    "pd.set_option('display.max_columns', 500)"
   ]
  },
  {
   "cell_type": "code",
   "execution_count": 2,
   "id": "d78b5790",
   "metadata": {},
   "outputs": [
    {
     "name": "stdout",
     "output_type": "stream",
     "text": [
      "Reading Data\n",
      "Preprocessing\n"
     ]
    }
   ],
   "source": [
    "##### import data\n",
    "print('Reading Data')\n",
    "df_ratings = pd.read_csv('data/ratings.csv')\n",
    "df_books = pd.read_csv('data/books.csv')\n",
    "df_books = df_books[['book_id', 'isbn', 'isbn13', 'authors', 'original_publication_year', 'original_title']].copy()\n",
    "\n",
    "#### preprocess\n",
    "print('Preprocessing')\n",
    "cnt = df_ratings.groupby('user_id')['book_id'].count()\n",
    "lower = cnt.mean() - 2*cnt.std() # lower bound of books read\n",
    "users = cnt[(cnt>lower)].index # select users who've read gt lower bound\n",
    "df_ratings = df_ratings[df_ratings.user_id.isin(users)]\n",
    "\n",
    "drop_books = (df_books[df_books.original_title.isna()]['book_id']).tolist() # drop books with missing title\n",
    "df_books = df_books[~df_books.book_id.isin(drop_books)].copy()\n",
    "df_books.reset_index(inplace=True, drop=True)\n",
    "\n",
    "df_ratings = df_ratings[~df_ratings.book_id.isin(drop_books)].copy()\n",
    "df_ratings.reset_index(inplace=True, drop=True)"
   ]
  },
  {
   "cell_type": "code",
   "execution_count": 3,
   "id": "64cd4bd3",
   "metadata": {},
   "outputs": [],
   "source": [
    "R = df_ratings.pivot(index='user_id', columns='book_id', values='rating') # user rating pivoted df\n",
    "df_R = R.copy()\n",
    "R.fillna(0, inplace=True)\n",
    "R = np.array(R)"
   ]
  },
  {
   "cell_type": "code",
   "execution_count": 4,
   "id": "39f1cbca",
   "metadata": {},
   "outputs": [
    {
     "data": {
      "text/plain": [
       "0.9882459882684972"
      ]
     },
     "execution_count": 4,
     "metadata": {},
     "output_type": "execute_result"
    }
   ],
   "source": [
    "sparsity = len(R[R==0]) / (R.shape[0] * R.shape[1])\n",
    "sparsity"
   ]
  },
  {
   "cell_type": "code",
   "execution_count": 5,
   "id": "1cfa49c8",
   "metadata": {},
   "outputs": [
    {
     "name": "stderr",
     "output_type": "stream",
     "text": [
      "2022-03-13 21:46:56.028796: I tensorflow/core/platform/cpu_feature_guard.cc:151] This TensorFlow binary is optimized with oneAPI Deep Neural Network Library (oneDNN) to use the following CPU instructions in performance-critical operations:  AVX2 FMA\n",
      "To enable them in other operations, rebuild TensorFlow with the appropriate compiler flags.\n"
     ]
    },
    {
     "name": "stdout",
     "output_type": "stream",
     "text": [
      "Epoch 1/20\n",
      "179913/179913 [==============================] - 105s 580us/step - loss: 9.4892 - mae: 2.6244 - mse: 9.4892\n",
      "Epoch 2/20\n",
      "179913/179913 [==============================] - 103s 575us/step - loss: 0.9773 - mae: 0.7655 - mse: 0.9773\n",
      "Epoch 3/20\n",
      "179913/179913 [==============================] - 103s 573us/step - loss: 0.7429 - mae: 0.6750 - mse: 0.7429\n",
      "Epoch 4/20\n",
      "179913/179913 [==============================] - 102s 568us/step - loss: 0.7138 - mae: 0.6603 - mse: 0.7138\n",
      "Epoch 5/20\n",
      "179913/179913 [==============================] - 103s 573us/step - loss: 0.6927 - mae: 0.6491 - mse: 0.6927\n",
      "Epoch 6/20\n",
      "179913/179913 [==============================] - 106s 590us/step - loss: 0.6718 - mae: 0.6379 - mse: 0.6718\n",
      "Epoch 7/20\n",
      "179913/179913 [==============================] - 106s 587us/step - loss: 0.6508 - mae: 0.6267 - mse: 0.6508\n",
      "Epoch 8/20\n",
      "179913/179913 [==============================] - 103s 573us/step - loss: 0.6300 - mae: 0.6153 - mse: 0.6300\n",
      "Epoch 9/20\n",
      "179913/179913 [==============================] - 105s 583us/step - loss: 0.6108 - mae: 0.6047 - mse: 0.6108s - loss: 0.6\n",
      "Epoch 10/20\n",
      "179913/179913 [==============================] - 107s 596us/step - loss: 0.5940 - mae: 0.5952 - mse: 0.5940\n",
      "Epoch 11/20\n",
      "179913/179913 [==============================] - 106s 589us/step - loss: 0.5800 - mae: 0.5871 - mse: 0.5800\n",
      "Epoch 12/20\n",
      "179913/179913 [==============================] - 104s 580us/step - loss: 0.5682 - mae: 0.5805 - mse: 0.5682\n",
      "Epoch 13/20\n",
      "179913/179913 [==============================] - 105s 582us/step - loss: 0.5581 - mae: 0.5748 - mse: 0.5581\n",
      "Epoch 14/20\n",
      "179913/179913 [==============================] - 107s 592us/step - loss: 0.5492 - mae: 0.5697 - mse: 0.5492\n",
      "Epoch 15/20\n",
      "179913/179913 [==============================] - 105s 581us/step - loss: 0.5413 - mae: 0.5652 - mse: 0.5413\n",
      "Epoch 16/20\n",
      "179913/179913 [==============================] - 105s 582us/step - loss: 0.5341 - mae: 0.5612 - mse: 0.5341\n",
      "Epoch 17/20\n",
      "179913/179913 [==============================] - 124s 690us/step - loss: 0.5275 - mae: 0.5576 - mse: 0.5275\n",
      "Epoch 18/20\n",
      "179913/179913 [==============================] - 116s 645us/step - loss: 0.5216 - mae: 0.5543 - mse: 0.5216\n",
      "Epoch 19/20\n",
      "179913/179913 [==============================] - 119s 660us/step - loss: 0.5161 - mae: 0.5512 - mse: 0.5161\n",
      "Epoch 20/20\n",
      "179913/179913 [==============================] - 129s 717us/step - loss: 0.5110 - mae: 0.5484 - mse: 0.5110\n"
     ]
    }
   ],
   "source": [
    "#### train\n",
    "recommender = MF(k = 20, rating_matrix=R, epochs = 20, learning_rate = 0.1)\n",
    "recommender_train = recommender.train()"
   ]
  },
  {
   "cell_type": "code",
   "execution_count": 6,
   "id": "2aa7aa09",
   "metadata": {},
   "outputs": [
    {
     "name": "stdout",
     "output_type": "stream",
     "text": [
      "Model: \"matrix_factorization\"\n",
      "__________________________________________________________________________________________________\n",
      " Layer (type)                   Output Shape         Param #     Connected to                     \n",
      "==================================================================================================\n",
      " user (InputLayer)              [(None, 1)]          0           []                               \n",
      "                                                                                                  \n",
      " item (InputLayer)              [(None, 1)]          0           []                               \n",
      "                                                                                                  \n",
      " user_embedding (Embedding)     (None, 1, 20)        1040480     ['user[0][0]']                   \n",
      "                                                                                                  \n",
      " item_embedding (Embedding)     (None, 1, 20)        188300      ['item[0][0]']                   \n",
      "                                                                                                  \n",
      " FlattenUsers (Flatten)         (None, 20)           0           ['user_embedding[0][0]']         \n",
      "                                                                                                  \n",
      " FlattenItems (Flatten)         (None, 20)           0           ['item_embedding[0][0]']         \n",
      "                                                                                                  \n",
      " dot_product (Dot)              (None, 1)            0           ['FlattenUsers[0][0]',           \n",
      "                                                                  'FlattenItems[0][0]']           \n",
      "                                                                                                  \n",
      "==================================================================================================\n",
      "Total params: 1,228,780\n",
      "Trainable params: 1,228,780\n",
      "Non-trainable params: 0\n",
      "__________________________________________________________________________________________________\n",
      "None\n"
     ]
    }
   ],
   "source": [
    "print(recommender.model.summary())"
   ]
  },
  {
   "cell_type": "code",
   "execution_count": 7,
   "id": "ac95625f",
   "metadata": {},
   "outputs": [
    {
     "name": "stdout",
     "output_type": "stream",
     "text": [
      "{'loss': [9.489164352416992, 0.977279007434845, 0.7429345846176147, 0.7138020396232605, 0.6926698088645935, 0.6717773675918579, 0.650764524936676, 0.6300435662269592, 0.6107507944107056, 0.5940210223197937, 0.5799860954284668, 0.5682482719421387, 0.558096170425415, 0.5492408275604248, 0.5412793755531311, 0.5340884327888489, 0.5275207161903381, 0.5215716361999512, 0.5160977840423584, 0.5109972357749939], 'mae': [2.6244306564331055, 0.7654615044593811, 0.6750440001487732, 0.6603385806083679, 0.6491198539733887, 0.6379140019416809, 0.62665194272995, 0.6153124570846558, 0.6047202348709106, 0.5951724052429199, 0.587103545665741, 0.5805130004882812, 0.5748023390769958, 0.5696890354156494, 0.5652161836624146, 0.5611690282821655, 0.5575564503669739, 0.5542729496955872, 0.5512025952339172, 0.5483783483505249], 'mse': [9.489164352416992, 0.977279007434845, 0.7429345846176147, 0.7138020396232605, 0.6926698088645935, 0.6717773675918579, 0.650764524936676, 0.6300435662269592, 0.6107507944107056, 0.5940210223197937, 0.5799860954284668, 0.5682482719421387, 0.558096170425415, 0.5492408275604248, 0.5412793755531311, 0.5340884327888489, 0.5275207161903381, 0.5215716361999512, 0.5160977840423584, 0.5109972357749939]}\n"
     ]
    }
   ],
   "source": [
    "print(recommender.history.history)"
   ]
  },
  {
   "cell_type": "code",
   "execution_count": 8,
   "id": "c07a2d1d",
   "metadata": {},
   "outputs": [
    {
     "name": "stdout",
     "output_type": "stream",
     "text": [
      "179913/179913 [==============================] - 97s 539us/step - loss: 0.4816 - mae: 0.5317 - mse: 0.4816\n"
     ]
    }
   ],
   "source": [
    "pred_rm, pred_um, pred_im, sim_matrix = recommender.get_sim_matrix() # read predictions from checkpoint"
   ]
  },
  {
   "cell_type": "code",
   "execution_count": 9,
   "id": "64f9c57a",
   "metadata": {},
   "outputs": [
    {
     "name": "stdout",
     "output_type": "stream",
     "text": [
      "Enter book:great gatsby\n",
      "Enter # of recos:10\n"
     ]
    }
   ],
   "source": [
    "entered_book_name = input(\"Enter book:\") # Harry Potter and the Philosopher's Stone\n",
    "number_of_book_recos = input(\"Enter # of recos:\")"
   ]
  },
  {
   "cell_type": "code",
   "execution_count": 10,
   "id": "c7cdd184",
   "metadata": {},
   "outputs": [],
   "source": [
    "chosen_book_name = df_books[df_books.original_title.str.lower().str.contains(entered_book_name.lower())].original_title.values[0]\n",
    "chosen_book_id = df_books[df_books.original_title.str.lower().str.contains(entered_book_name.lower())].book_id.values[0]\n",
    "chosen_book_index = df_R.columns.get_loc(chosen_book_id)\n",
    "recommended_book_indices = list(pd.Series(sim_matrix[chosen_book_index]).sort_values(ascending=False).index[:int(number_of_book_recos)].values)\n",
    "cosine_sim_scores = list(pd.Series(sim_matrix[chosen_book_index]).sort_values(ascending=False)[:int(number_of_book_recos)].values)"
   ]
  },
  {
   "cell_type": "code",
   "execution_count": 11,
   "id": "f8cfb848",
   "metadata": {},
   "outputs": [
    {
     "name": "stdout",
     "output_type": "stream",
     "text": [
      "You've selected: The Great Gatsby \n",
      "Book ID: 5\n"
     ]
    }
   ],
   "source": [
    "print(\"You've selected:\", chosen_book_name, \"\\nBook ID:\", chosen_book_id)"
   ]
  },
  {
   "cell_type": "code",
   "execution_count": 12,
   "id": "45e0909a",
   "metadata": {},
   "outputs": [],
   "source": [
    "recommended_book_ids = list(df_R.columns[recommended_book_indices])"
   ]
  },
  {
   "cell_type": "code",
   "execution_count": 13,
   "id": "fbeabc55",
   "metadata": {},
   "outputs": [
    {
     "data": {
      "text/html": [
       "<div>\n",
       "<style scoped>\n",
       "    .dataframe tbody tr th:only-of-type {\n",
       "        vertical-align: middle;\n",
       "    }\n",
       "\n",
       "    .dataframe tbody tr th {\n",
       "        vertical-align: top;\n",
       "    }\n",
       "\n",
       "    .dataframe thead th {\n",
       "        text-align: right;\n",
       "    }\n",
       "</style>\n",
       "<table border=\"1\" class=\"dataframe\">\n",
       "  <thead>\n",
       "    <tr style=\"text-align: right;\">\n",
       "      <th></th>\n",
       "      <th>original_title</th>\n",
       "      <th>authors</th>\n",
       "      <th>original_publication_year</th>\n",
       "      <th>isbn</th>\n",
       "      <th>cosine_sim_score</th>\n",
       "    </tr>\n",
       "  </thead>\n",
       "  <tbody>\n",
       "    <tr>\n",
       "      <th>4</th>\n",
       "      <td>The Great Gatsby</td>\n",
       "      <td>F. Scott Fitzgerald</td>\n",
       "      <td>1925.0</td>\n",
       "      <td>743273567</td>\n",
       "      <td>0.999999</td>\n",
       "    </tr>\n",
       "    <tr>\n",
       "      <th>143</th>\n",
       "      <td>The Goldfinch</td>\n",
       "      <td>Donna Tartt</td>\n",
       "      <td>2013.0</td>\n",
       "      <td>316055433</td>\n",
       "      <td>0.980207</td>\n",
       "    </tr>\n",
       "    <tr>\n",
       "      <th>178</th>\n",
       "      <td>In Cold Blood</td>\n",
       "      <td>Truman Capote</td>\n",
       "      <td>1965.0</td>\n",
       "      <td>679745580</td>\n",
       "      <td>0.980119</td>\n",
       "    </tr>\n",
       "    <tr>\n",
       "      <th>447</th>\n",
       "      <td>A Streetcar Named Desire</td>\n",
       "      <td>Tennessee Williams</td>\n",
       "      <td>1947.0</td>\n",
       "      <td>822210894</td>\n",
       "      <td>0.978924</td>\n",
       "    </tr>\n",
       "    <tr>\n",
       "      <th>512</th>\n",
       "      <td>The Things They Carried</td>\n",
       "      <td>Tim O'Brien</td>\n",
       "      <td>1990.0</td>\n",
       "      <td>767902890</td>\n",
       "      <td>0.978628</td>\n",
       "    </tr>\n",
       "    <tr>\n",
       "      <th>645</th>\n",
       "      <td>Dreams from My Father</td>\n",
       "      <td>Barack Obama</td>\n",
       "      <td>1995.0</td>\n",
       "      <td>1921351438</td>\n",
       "      <td>0.978479</td>\n",
       "    </tr>\n",
       "    <tr>\n",
       "      <th>749</th>\n",
       "      <td>The Autobiography of Malcolm X</td>\n",
       "      <td>Malcolm X, Alex Haley</td>\n",
       "      <td>1965.0</td>\n",
       "      <td>345350685</td>\n",
       "      <td>0.978257</td>\n",
       "    </tr>\n",
       "    <tr>\n",
       "      <th>922</th>\n",
       "      <td>The Hours</td>\n",
       "      <td>Michael Cunningham</td>\n",
       "      <td>1998.0</td>\n",
       "      <td>312305060</td>\n",
       "      <td>0.978247</td>\n",
       "    </tr>\n",
       "    <tr>\n",
       "      <th>988</th>\n",
       "      <td>The Interestings</td>\n",
       "      <td>Meg Wolitzer</td>\n",
       "      <td>2013.0</td>\n",
       "      <td>1594488398</td>\n",
       "      <td>0.978017</td>\n",
       "    </tr>\n",
       "    <tr>\n",
       "      <th>1009</th>\n",
       "      <td>A Moveable Feast</td>\n",
       "      <td>Ernest Hemingway</td>\n",
       "      <td>1964.0</td>\n",
       "      <td>99285045</td>\n",
       "      <td>0.977866</td>\n",
       "    </tr>\n",
       "  </tbody>\n",
       "</table>\n",
       "</div>"
      ],
      "text/plain": [
       "                      original_title                authors  \\\n",
       "4                   The Great Gatsby    F. Scott Fitzgerald   \n",
       "143                    The Goldfinch            Donna Tartt   \n",
       "178                    In Cold Blood          Truman Capote   \n",
       "447         A Streetcar Named Desire     Tennessee Williams   \n",
       "512          The Things They Carried            Tim O'Brien   \n",
       "645            Dreams from My Father           Barack Obama   \n",
       "749   The Autobiography of Malcolm X  Malcolm X, Alex Haley   \n",
       "922                        The Hours     Michael Cunningham   \n",
       "988                 The Interestings           Meg Wolitzer   \n",
       "1009                A Moveable Feast       Ernest Hemingway   \n",
       "\n",
       "      original_publication_year        isbn  cosine_sim_score  \n",
       "4                        1925.0   743273567          0.999999  \n",
       "143                      2013.0   316055433          0.980207  \n",
       "178                      1965.0   679745580          0.980119  \n",
       "447                      1947.0   822210894          0.978924  \n",
       "512                      1990.0   767902890          0.978628  \n",
       "645                      1995.0  1921351438          0.978479  \n",
       "749                      1965.0   345350685          0.978257  \n",
       "922                      1998.0   312305060          0.978247  \n",
       "988                      2013.0  1594488398          0.978017  \n",
       "1009                     1964.0    99285045          0.977866  "
      ]
     },
     "execution_count": 13,
     "metadata": {},
     "output_type": "execute_result"
    }
   ],
   "source": [
    "final_recos = df_books[df_books.book_id.isin(recommended_book_ids)][['original_title', 'authors', 'original_publication_year', 'isbn']]\n",
    "final_recos['cosine_sim_score'] = cosine_sim_scores\n",
    "final_recos"
   ]
  }
 ],
 "metadata": {
  "kernelspec": {
   "display_name": "Python 3 (ipykernel)",
   "language": "python",
   "name": "python3"
  },
  "language_info": {
   "codemirror_mode": {
    "name": "ipython",
    "version": 3
   },
   "file_extension": ".py",
   "mimetype": "text/x-python",
   "name": "python",
   "nbconvert_exporter": "python",
   "pygments_lexer": "ipython3",
   "version": "3.9.10"
  }
 },
 "nbformat": 4,
 "nbformat_minor": 5
}
